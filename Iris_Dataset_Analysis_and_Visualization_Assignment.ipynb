{
 "cells": [
  {
   "cell_type": "markdown",
   "id": "a375f586",
   "metadata": {},
   "source": [
    "# Analyzing Data with Pandas and Visualizing Results with Matplotlib\n",
    "## Assignment Solution"
   ]
  },
  {
   "cell_type": "code",
   "execution_count": null,
   "id": "410e6e96",
   "metadata": {},
   "outputs": [],
   "source": [
    "\n",
    "# Import necessary libraries\n",
    "import pandas as pd\n",
    "import matplotlib.pyplot as plt\n",
    "import seaborn as sns\n"
   ]
  },
  {
   "cell_type": "code",
   "execution_count": null,
   "id": "22047951",
   "metadata": {},
   "outputs": [],
   "source": [
    "\n",
    "# Error handling while loading the dataset\n",
    "try:\n",
    "    from sklearn.datasets import load_iris\n",
    "    iris = load_iris()\n",
    "    # Create a DataFrame\n",
    "    data = pd.DataFrame(iris.data, columns=iris.feature_names)\n",
    "    data['species'] = pd.Categorical.from_codes(iris.target, iris.target_names)\n",
    "    print(\"Dataset loaded successfully!\")\n",
    "except Exception as e:\n",
    "    print(f\"An error occurred while loading the dataset: {e}\")\n"
   ]
  },
  {
   "cell_type": "markdown",
   "id": "625ac2ff",
   "metadata": {},
   "source": [
    "## Task 1: Load and Explore the Dataset"
   ]
  },
  {
   "cell_type": "code",
   "execution_count": null,
   "id": "cddf91fc",
   "metadata": {},
   "outputs": [],
   "source": [
    "\n",
    "# Display the first 5 rows\n",
    "print(\"\\nFirst five rows of the dataset:\")\n",
    "print(data.head())\n",
    "\n",
    "# Check data types and missing values\n",
    "print(\"\\nDataset Information:\")\n",
    "print(data.info())\n",
    "\n",
    "print(\"\\nMissing Values in Dataset:\")\n",
    "print(data.isnull().sum())\n",
    "\n",
    "# No missing values found, but if there were, you could fill or drop them like this:\n",
    "# data.fillna(method='ffill', inplace=True)\n"
   ]
  },
  {
   "cell_type": "markdown",
   "id": "b405c0f3",
   "metadata": {},
   "source": [
    "## Task 2: Basic Data Analysis"
   ]
  },
  {
   "cell_type": "code",
   "execution_count": null,
   "id": "44b741d1",
   "metadata": {},
   "outputs": [],
   "source": [
    "\n",
    "# Basic statistics\n",
    "print(\"\\nBasic Statistical Description:\")\n",
    "print(data.describe())\n",
    "\n",
    "# Grouping: mean petal length by species\n",
    "grouped = data.groupby('species').mean()\n",
    "print(\"\\nMean Values Grouped by Species:\")\n",
    "print(grouped[['petal length (cm)']])\n",
    "\n",
    "# Observations\n",
    "print(\"\\nObservations:\")\n",
    "print(\"- Virginica species tends to have larger petal and sepal measurements.\")\n",
    "print(\"- Setosa species has the smallest petal lengths.\")\n"
   ]
  },
  {
   "cell_type": "markdown",
   "id": "e7a2ad7d",
   "metadata": {},
   "source": [
    "## Task 3: Data Visualization"
   ]
  },
  {
   "cell_type": "code",
   "execution_count": null,
   "id": "46c2c0ae",
   "metadata": {},
   "outputs": [],
   "source": [
    "\n",
    "# Set seaborn style for better visuals\n",
    "sns.set(style=\"whitegrid\")\n",
    "\n",
    "# Line Chart: Example trend (using index as time for illustration)\n",
    "plt.figure(figsize=(8,5))\n",
    "plt.plot(data.index, data['sepal length (cm)'], label='Sepal Length', color='blue')\n",
    "plt.title('Sepal Length Trend Across Dataset')\n",
    "plt.xlabel('Index')\n",
    "plt.ylabel('Sepal Length (cm)')\n",
    "plt.legend()\n",
    "plt.show()\n",
    "\n",
    "# Bar Chart: Average petal length by species\n",
    "plt.figure(figsize=(8,5))\n",
    "sns.barplot(x='species', y='petal length (cm)', data=data, palette='pastel')\n",
    "plt.title('Average Petal Length per Species')\n",
    "plt.xlabel('Species')\n",
    "plt.ylabel('Petal Length (cm)')\n",
    "plt.show()\n",
    "\n",
    "# Histogram: Distribution of Sepal Length\n",
    "plt.figure(figsize=(8,5))\n",
    "plt.hist(data['sepal length (cm)'], bins=20, color='green', edgecolor='black')\n",
    "plt.title('Distribution of Sepal Length')\n",
    "plt.xlabel('Sepal Length (cm)')\n",
    "plt.ylabel('Frequency')\n",
    "plt.show()\n",
    "\n",
    "# Scatter Plot: Sepal Length vs Petal Length\n",
    "plt.figure(figsize=(8,5))\n",
    "sns.scatterplot(x='sepal length (cm)', y='petal length (cm)', hue='species', data=data, palette='deep')\n",
    "plt.title('Sepal Length vs Petal Length')\n",
    "plt.xlabel('Sepal Length (cm)')\n",
    "plt.ylabel('Petal Length (cm)')\n",
    "plt.legend()\n",
    "plt.show()\n"
   ]
  },
  {
   "cell_type": "markdown",
   "id": "4d9e0716",
   "metadata": {},
   "source": [
    "## Final Observations"
   ]
  },
  {
   "cell_type": "code",
   "execution_count": null,
   "id": "113617f5",
   "metadata": {},
   "outputs": [],
   "source": [
    "\n",
    "print(\"\\nFinal Observations:\")\n",
    "print(\"- The Setosa species has distinctly smaller petal lengths compared to Versicolor and Virginica.\")\n",
    "print(\"- There is a positive correlation between Sepal Length and Petal Length, especially for Virginica.\")\n",
    "print(\"- The distribution of Sepal Length is slightly skewed to the right.\")\n"
   ]
  }
 ],
 "metadata": {},
 "nbformat": 4,
 "nbformat_minor": 5
}
